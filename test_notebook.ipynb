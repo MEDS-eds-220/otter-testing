{
 "cells": [
  {
   "cell_type": "raw",
   "id": "3824ba92-f849-4f4f-a9c2-db81ddd6e956",
   "metadata": {},
   "source": [
    "# ASSIGNMENT CONFIG\n",
    "generate: true\n",
    "export_cell: false\n",
    "files:\n",
    "    - data\n",
    "tests:\n",
    "    files: true\n",
    "check_all_cell: false"
   ]
  },
  {
   "cell_type": "raw",
   "id": "126035c0-1d0f-4c2d-8642-d9b5794c9412",
   "metadata": {},
   "source": [
    "# BEGIN QUESTION\n",
    "name: q1\n",
    "points: 2\n",
    "manual: false"
   ]
  },
  {
   "cell_type": "raw",
   "id": "861e002f-ef67-4334-b3e8-d57c69d80a63",
   "metadata": {},
   "source": [
    "# BEGIN SOLUTION"
   ]
  },
  {
   "cell_type": "code",
   "execution_count": 2,
   "id": "250a3ec7-d096-438b-a9c0-818a47f9a5ad",
   "metadata": {},
   "outputs": [],
   "source": [
    "animal = \"dog\" # SOLUTION"
   ]
  },
  {
   "cell_type": "raw",
   "id": "73e65816-8624-49c3-960f-5fbfc0c72e7f",
   "metadata": {},
   "source": [
    "# END SOLUTION"
   ]
  },
  {
   "cell_type": "raw",
   "id": "7f8d186c-b921-44bc-8656-454a4c1fe3d9",
   "metadata": {},
   "source": [
    "# BEGIN TESTS"
   ]
  },
  {
   "cell_type": "code",
   "execution_count": 5,
   "id": "3bc15229-409e-44bf-815e-cf5615ab24f1",
   "metadata": {},
   "outputs": [],
   "source": [
    "def test_q1(student_data):\n",
    "    try:\n",
    "        expected_data = \"dog\"\n",
    "        assert expected_data == student_data\n",
    "    except AssertionError:\n",
    "        raise AssertionError(\"Incorrect answer.\")\n",
    "test_q1(animal) #IGNORE"
   ]
  },
  {
   "cell_type": "raw",
   "id": "c832694f-be14-41b0-abec-d7534701b8e7",
   "metadata": {},
   "source": [
    "# END TESTS"
   ]
  },
  {
   "cell_type": "raw",
   "id": "1789dd5d-779e-46ea-8c55-4b95306b7683",
   "metadata": {},
   "source": [
    "# END QUESTION"
   ]
  },
  {
   "cell_type": "raw",
   "id": "fc813864-715d-4723-8406-fe4ceb89ec69",
   "metadata": {},
   "source": [
    "# BEGIN QUESTION\n",
    "name: q2\n",
    "points: 2\n",
    "manual: false"
   ]
  },
  {
   "cell_type": "raw",
   "id": "2005ae91-6d29-406b-a028-5b6e574c22e3",
   "metadata": {},
   "source": [
    "# BEGIN SOLUTION"
   ]
  },
  {
   "cell_type": "code",
   "execution_count": 7,
   "id": "cd7a532d-06f6-4140-bb14-472d12e5e61e",
   "metadata": {},
   "outputs": [],
   "source": [
    "# BEGIN SOLUTION NO PROMPT\n",
    "import os\n",
    "import numpy as np\n",
    "import pandas as pd\n",
    "import matplotlib.pyplot as plt\n",
    "import geopandas as gpd\n",
    "# END SOLUTION"
   ]
  },
  {
   "cell_type": "code",
   "execution_count": 10,
   "id": "373445ce-6f51-4fd2-a1dd-81258ce32c00",
   "metadata": {},
   "outputs": [],
   "source": [
    "fp = os.path.join('data','Spill_Incidents_20241029.csv') # SOLUTION\n",
    "spills = pd.read_csv(fp) # SOLUTION"
   ]
  },
  {
   "cell_type": "code",
   "execution_count": 13,
   "id": "6e9cd65c-8113-4d50-9174-aefdaeae1fcd",
   "metadata": {},
   "outputs": [
    {
     "data": {
      "text/plain": [
       "552947"
      ]
     },
     "execution_count": 13,
     "metadata": {},
     "output_type": "execute_result"
    }
   ],
   "source": [
    "length_spills = len(spills) # SOLUTION\n",
    "length_spills"
   ]
  },
  {
   "cell_type": "raw",
   "id": "5b31b450-6d8f-434f-a759-c553d65679a4",
   "metadata": {},
   "source": [
    "# END SOLUTION"
   ]
  },
  {
   "cell_type": "raw",
   "id": "b42cb01f-3ebd-4cf8-b907-492e1cd4bade",
   "metadata": {},
   "source": [
    "# BEGIN TESTS"
   ]
  },
  {
   "cell_type": "code",
   "execution_count": 15,
   "id": "4be38791-1f49-4fe5-8bd0-257d15803d4c",
   "metadata": {},
   "outputs": [],
   "source": [
    "def test_q2(student_data):\n",
    "    try:\n",
    "        expected_data = 552947\n",
    "        assert expected_data == student_data\n",
    "    except AssertionError:\n",
    "        raise AssertionError(\"Incorrect answer.\")\n",
    "test_q2(length_spills) #IGNORE"
   ]
  },
  {
   "cell_type": "raw",
   "id": "f0fd1ed2-4903-4ba9-a112-cda1edc3032f",
   "metadata": {},
   "source": [
    "# END TESTS"
   ]
  },
  {
   "cell_type": "raw",
   "id": "77870fa0-bba8-4ac9-a6b1-d17fad6bd3d1",
   "metadata": {},
   "source": [
    "# END QUESTION"
   ]
  },
  {
   "cell_type": "raw",
   "id": "018d1a05-ebd5-4f8e-a954-4b0dfc637cec",
   "metadata": {},
   "source": [
    "# BEGIN QUESTION\n",
    "name: q3\n",
    "points: 2\n",
    "manual: false"
   ]
  },
  {
   "cell_type": "raw",
   "id": "a0968f73-93f0-4926-83a7-57c88aacd234",
   "metadata": {},
   "source": [
    "# BEGIN SOLUTION"
   ]
  },
  {
   "cell_type": "code",
   "execution_count": 17,
   "id": "77772dfa-2041-41d2-a3ec-89d1bfa7aaba",
   "metadata": {},
   "outputs": [
    {
     "data": {
      "text/html": [
       "<div>\n",
       "<style scoped>\n",
       "    .dataframe tbody tr th:only-of-type {\n",
       "        vertical-align: middle;\n",
       "    }\n",
       "\n",
       "    .dataframe tbody tr th {\n",
       "        vertical-align: top;\n",
       "    }\n",
       "\n",
       "    .dataframe thead th {\n",
       "        text-align: right;\n",
       "    }\n",
       "</style>\n",
       "<table border=\"1\" class=\"dataframe\">\n",
       "  <thead>\n",
       "    <tr style=\"text-align: right;\">\n",
       "      <th></th>\n",
       "      <th>county</th>\n",
       "      <th>n_spills</th>\n",
       "    </tr>\n",
       "  </thead>\n",
       "  <tbody>\n",
       "    <tr>\n",
       "      <th>0</th>\n",
       "      <td>Albany</td>\n",
       "      <td>205</td>\n",
       "    </tr>\n",
       "    <tr>\n",
       "      <th>1</th>\n",
       "      <td>Allegany</td>\n",
       "      <td>30</td>\n",
       "    </tr>\n",
       "    <tr>\n",
       "      <th>2</th>\n",
       "      <td>Bronx</td>\n",
       "      <td>143</td>\n",
       "    </tr>\n",
       "    <tr>\n",
       "      <th>3</th>\n",
       "      <td>Broome</td>\n",
       "      <td>75</td>\n",
       "    </tr>\n",
       "    <tr>\n",
       "      <th>4</th>\n",
       "      <td>Cattaraugus</td>\n",
       "      <td>47</td>\n",
       "    </tr>\n",
       "    <tr>\n",
       "      <th>...</th>\n",
       "      <td>...</td>\n",
       "      <td>...</td>\n",
       "    </tr>\n",
       "    <tr>\n",
       "      <th>59</th>\n",
       "      <td>Washington</td>\n",
       "      <td>96</td>\n",
       "    </tr>\n",
       "    <tr>\n",
       "      <th>60</th>\n",
       "      <td>Wayne</td>\n",
       "      <td>38</td>\n",
       "    </tr>\n",
       "    <tr>\n",
       "      <th>61</th>\n",
       "      <td>Westchester</td>\n",
       "      <td>743</td>\n",
       "    </tr>\n",
       "    <tr>\n",
       "      <th>62</th>\n",
       "      <td>Wyoming</td>\n",
       "      <td>24</td>\n",
       "    </tr>\n",
       "    <tr>\n",
       "      <th>63</th>\n",
       "      <td>Yates</td>\n",
       "      <td>6</td>\n",
       "    </tr>\n",
       "  </tbody>\n",
       "</table>\n",
       "<p>64 rows × 2 columns</p>\n",
       "</div>"
      ],
      "text/plain": [
       "         county  n_spills\n",
       "0        Albany       205\n",
       "1      Allegany        30\n",
       "2         Bronx       143\n",
       "3        Broome        75\n",
       "4   Cattaraugus        47\n",
       "..          ...       ...\n",
       "59   Washington        96\n",
       "60        Wayne        38\n",
       "61  Westchester       743\n",
       "62      Wyoming        24\n",
       "63        Yates         6\n",
       "\n",
       "[64 rows x 2 columns]"
      ]
     },
     "execution_count": 17,
     "metadata": {},
     "output_type": "execute_result"
    }
   ],
   "source": [
    "spills.columns = spills.columns.str.lower().str.replace(' ', '_') # SOLUTION\n",
    "spills.spill_date = pd.to_datetime(spills.spill_date) # SOLUTION\n",
    "petr_23 = spills[ (spills.spill_date >= '2023-01-01') & (spills.spill_date<='2023-10-31') & (spills.material_family == 'Petroleum')].copy() # SOLUTION\n",
    "spills_per_county = pd.DataFrame(petr_23.groupby('county').size()) # SOLUTION\n",
    "spills_per_county = spills_per_county.reset_index().rename(columns={0:'n_spills'}) # SOLUTION\n",
    "spills_per_county # SOLUTION\n"
   ]
  },
  {
   "cell_type": "raw",
   "id": "d55b70fc-aff1-4667-a049-d0114ca8eb1c",
   "metadata": {},
   "source": [
    "# END SOLUTION"
   ]
  },
  {
   "cell_type": "raw",
   "id": "71919aa7-2121-4f11-8f82-0caa32861a2b",
   "metadata": {},
   "source": [
    "# BEGIN TESTS"
   ]
  },
  {
   "cell_type": "code",
   "execution_count": 32,
   "id": "54600323-e034-4b2b-928d-81cd8456c8c1",
   "metadata": {},
   "outputs": [],
   "source": [
    "def test_q3(student_data):\n",
    "    try:\n",
    "        expected_data = pd.read_csv('data/q5d_df.csv').drop(columns = 'Unnamed: 0')\n",
    "        pd.testing.assert_frame_equal(expected_data, student_data)\n",
    "    except AssertionError:\n",
    "        raise AssertionError(\"Incorrect answer.\")\n",
    "test_q3(spills_per_county) #IGNORE"
   ]
  },
  {
   "cell_type": "raw",
   "id": "8de1d524-90d3-4030-9129-85451f42e5b0",
   "metadata": {},
   "source": [
    "# END TESTS"
   ]
  },
  {
   "cell_type": "raw",
   "id": "05ef44a8-3e4f-4b5d-be1c-eeed0e6dc47e",
   "metadata": {},
   "source": [
    "# END QUESTION"
   ]
  },
  {
   "cell_type": "code",
   "execution_count": null,
   "id": "81caf0b3-d9f8-4279-8636-213282965561",
   "metadata": {},
   "outputs": [],
   "source": []
  }
 ],
 "metadata": {
  "kernelspec": {
   "display_name": "Python 3 (ipykernel)",
   "language": "python",
   "name": "python3"
  },
  "language_info": {
   "codemirror_mode": {
    "name": "ipython",
    "version": 3
   },
   "file_extension": ".py",
   "mimetype": "text/x-python",
   "name": "python",
   "nbconvert_exporter": "python",
   "pygments_lexer": "ipython3",
   "version": "3.12.6"
  }
 },
 "nbformat": 4,
 "nbformat_minor": 5
}
